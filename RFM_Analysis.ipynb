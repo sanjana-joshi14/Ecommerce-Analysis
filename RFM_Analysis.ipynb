{
  "nbformat": 4,
  "nbformat_minor": 0,
  "metadata": {
    "colab": {
      "provenance": [],
      "mount_file_id": "1FbsUOY9zBoI_1obw5oaxt2F35LgzPk7w",
      "authorship_tag": "ABX9TyP8qjijWaG46I+HDp8AG73O",
      "include_colab_link": true
    },
    "kernelspec": {
      "name": "python3",
      "display_name": "Python 3"
    },
    "language_info": {
      "name": "python"
    }
  },
  "cells": [
    {
      "cell_type": "markdown",
      "metadata": {
        "id": "view-in-github",
        "colab_type": "text"
      },
      "source": [
        "<a href=\"https://colab.research.google.com/github/sanjana-joshi14/Ecommerce-Analysis/blob/main/RFM_Analysis.ipynb\" target=\"_parent\"><img src=\"https://colab.research.google.com/assets/colab-badge.svg\" alt=\"Open In Colab\"/></a>"
      ]
    },
    {
      "cell_type": "code",
      "execution_count": null,
      "metadata": {
        "id": "AovpyJ99UtTk"
      },
      "outputs": [],
      "source": [
        "import numpy as np\n",
        "import pandas as pd\n",
        "import matplotlib.pyplot as plt\n",
        "import seaborn as sns\n",
        "from scipy import stats"
      ]
    },
    {
      "cell_type": "code",
      "source": [
        "from google.colab import drive\n",
        "drive.mount('/content/drive')"
      ],
      "metadata": {
        "id": "Y0WHncpqFygL"
      },
      "execution_count": null,
      "outputs": []
    },
    {
      "cell_type": "markdown",
      "source": [
        "**MERGING DATA**"
      ],
      "metadata": {
        "id": "t37g78SGq8zL"
      }
    },
    {
      "cell_type": "code",
      "source": [
        "customer_df = pd.read_csv('/content/drive/MyDrive/Kaggle/olist_customers_dataset.csv')\n",
        "products_df = pd.read_csv('/content/drive/MyDrive/Kaggle/olist_products_dataset.csv')\n",
        "orders_df = pd.read_csv('/content/drive/MyDrive/Kaggle/olist_orders_dataset.csv')\n",
        "items_df = pd.read_csv('/content/drive/MyDrive/Kaggle/olist_order_items_dataset.csv')\n",
        "cat_names_df = pd.read_csv('/content/drive/MyDrive/Kaggle/product_category_name_translation.csv')\n",
        "payments_df = pd.read_csv('/content/drive/MyDrive/Kaggle/olist_order_payments_dataset.csv')\n",
        "geos_df = pd.read_csv('/content/drive/MyDrive/Kaggle/olist_geolocation_dataset.csv')\n",
        "sellers_df = pd.read_csv('/content/drive/MyDrive/Kaggle/olist_sellers_dataset.csv')"
      ],
      "metadata": {
        "id": "oUe59Ix2WO97"
      },
      "execution_count": null,
      "outputs": []
    },
    {
      "cell_type": "code",
      "source": [
        "full_df = orders_df.merge(payments_df, on='order_id')\\\n",
        ".merge(items_df, on='order_id')\\\n",
        ".merge(customer_df, on='customer_id')\\\n",
        ".merge(products_df, on='product_id')\\\n",
        ".merge(sellers_df, on='seller_id')"
      ],
      "metadata": {
        "id": "LZVHztSoo1mp"
      },
      "execution_count": null,
      "outputs": []
    },
    {
      "cell_type": "code",
      "source": [
        "#PRE REMOVING DUPLICATES\n",
        "full_df.columns"
      ],
      "metadata": {
        "colab": {
          "base_uri": "https://localhost:8080/"
        },
        "id": "RvFcRQk7qEA4",
        "outputId": "cbabff46-b591-4867-8ecc-6de32c4f6b93",
        "collapsed": true
      },
      "execution_count": null,
      "outputs": [
        {
          "output_type": "execute_result",
          "data": {
            "text/plain": [
              "Index(['order_id', 'customer_id', 'order_status', 'order_purchase_timestamp',\n",
              "       'order_approved_at', 'order_delivered_carrier_date',\n",
              "       'order_delivered_customer_date', 'order_estimated_delivery_date',\n",
              "       'payment_sequential', 'payment_type', 'payment_installments',\n",
              "       'payment_value', 'order_item_id', 'product_id', 'seller_id',\n",
              "       'shipping_limit_date', 'price', 'freight_value', 'customer_unique_id',\n",
              "       'customer_zip_code_prefix', 'customer_city', 'customer_state',\n",
              "       'product_category_name', 'product_name_lenght',\n",
              "       'product_description_lenght', 'product_photos_qty', 'product_weight_g',\n",
              "       'product_length_cm', 'product_height_cm', 'product_width_cm',\n",
              "       'seller_zip_code_prefix', 'seller_city', 'seller_state'],\n",
              "      dtype='object')"
            ]
          },
          "metadata": {},
          "execution_count": 4
        }
      ]
    },
    {
      "cell_type": "code",
      "source": [
        "full_df = full_df.drop_duplicates()"
      ],
      "metadata": {
        "id": "NuuuHSIkqdpJ"
      },
      "execution_count": null,
      "outputs": []
    },
    {
      "cell_type": "code",
      "source": [
        "def df_summary(df):\n",
        "  summary = pd.DataFrame(df.dtypes, columns=['dtypes'])\n",
        "  summary = summary.reset_index()\n",
        "  summary['Column'] = summary['index']\n",
        "  summary = summary[['Column','dtypes']]\n",
        "  summary['# unique'] = df.nunique().values\n",
        "  summary['# missing'] = df.isnull().sum().values\n",
        "  summary['Example'] = df.loc[0].values\n",
        "\n",
        "  return summary"
      ],
      "metadata": {
        "id": "UOvmnAenquAe"
      },
      "execution_count": null,
      "outputs": []
    },
    {
      "cell_type": "code",
      "source": [
        "df_summary(full_df)"
      ],
      "metadata": {
        "id": "5pr0-YrFslI_"
      },
      "execution_count": null,
      "outputs": []
    },
    {
      "cell_type": "code",
      "source": [
        "full_df.columns"
      ],
      "metadata": {
        "colab": {
          "base_uri": "https://localhost:8080/"
        },
        "id": "68ul4WlBDj7g",
        "outputId": "b5de922f-3032-4269-f148-8f7bed5b171b",
        "collapsed": true
      },
      "execution_count": null,
      "outputs": [
        {
          "output_type": "execute_result",
          "data": {
            "text/plain": [
              "Index(['order_id', 'customer_id', 'order_status', 'order_purchase_timestamp',\n",
              "       'order_approved_at', 'order_delivered_carrier_date',\n",
              "       'order_delivered_customer_date', 'order_estimated_delivery_date',\n",
              "       'payment_sequential', 'payment_type', 'payment_installments',\n",
              "       'payment_value', 'order_item_id', 'product_id', 'seller_id',\n",
              "       'shipping_limit_date', 'price', 'freight_value', 'customer_unique_id',\n",
              "       'customer_zip_code_prefix', 'customer_city', 'customer_state',\n",
              "       'product_category_name', 'product_name_lenght',\n",
              "       'product_description_lenght', 'product_photos_qty', 'product_weight_g',\n",
              "       'product_length_cm', 'product_height_cm', 'product_width_cm',\n",
              "       'seller_zip_code_prefix', 'seller_city', 'seller_state'],\n",
              "      dtype='object')"
            ]
          },
          "metadata": {},
          "execution_count": 22
        }
      ]
    },
    {
      "cell_type": "code",
      "source": [
        "for col in ['order_approved_at', 'order_delivered_carrier_date', 'order_delivered_customer_date', 'order_estimated_delivery_date', 'shipping_limit_date']:\n",
        "    full_df[col] = pd.to_datetime(full_df[col], errors='coerce')"
      ],
      "metadata": {
        "collapsed": true,
        "id": "394W5MgdLi5Z"
      },
      "execution_count": null,
      "outputs": []
    },
    {
      "cell_type": "markdown",
      "source": [
        "**DEFINE PERCENTILE FOR NUMERIC COLUMNS**"
      ],
      "metadata": {
        "id": "d3gOdj47rFLt"
      }
    },
    {
      "cell_type": "code",
      "source": [
        "full_df.dtypes"
      ],
      "metadata": {
        "id": "YGdTHkgNPKUl"
      },
      "execution_count": null,
      "outputs": []
    },
    {
      "cell_type": "code",
      "source": [
        "#percentile summary of the numeric and object columns\n",
        "print(full_df.describe(percentiles=[.01,.05,.25,.5,.75,.95,.99]))\n",
        "#full_df.describe(include=['number'])"
      ],
      "metadata": {
        "id": "nlpbJKNULQCx"
      },
      "execution_count": null,
      "outputs": []
    },
    {
      "cell_type": "markdown",
      "source": [
        "**RFM ANALYSIS**"
      ],
      "metadata": {
        "id": "l4VP-cy9q0lL"
      }
    },
    {
      "cell_type": "code",
      "source": [
        "#RFM\n",
        "#full_df['order_purchase_timestamp'] = pd.to_datetime(full_df['order_purchase_timestamp'])\n",
        "#ref_date = full_df['order_purchase_timestamp'].max() + pd.DateOffset(days=1)\n",
        "\n",
        "#Recency\n",
        "#rfm = full_df.groupby(['customer_unique_id','product_category_name']).agg({\n",
        "#    'order_purchase_timestamp': lambda x: (ref_date - x.max()).days,\n",
        "#    'order_id': 'count',\n",
        "#    'payment_value': 'sum'\n",
        "#  }).rename(columns={\n",
        "#    'order_purchase_timestamp': 'recency',\n",
        "#    'order_id': 'frequency'\n",
        "#})\n",
        "\n",
        "rfm = rfm.sort_values('frequency', ascending=False)\n",
        "\n",
        "rfm.head()"
      ],
      "metadata": {
        "colab": {
          "base_uri": "https://localhost:8080/",
          "height": 237
        },
        "collapsed": true,
        "id": "Fh1W_DJF-pM4",
        "outputId": "44619ac5-7bcd-4000-f12f-eca491dbce97"
      },
      "execution_count": null,
      "outputs": [
        {
          "output_type": "execute_result",
          "data": {
            "text/plain": [
              "                                                        recency  frequency  \\\n",
              "customer_unique_id               product_category_name                       \n",
              "9a736b248f67d166d2fbb006bcb877c3 cama_mesa_banho            391         42   \n",
              "6fbc7cdadbb522125f4b27ae9dee4060 moveis_escritorio          345         38   \n",
              "f9ae226291893fda10af7965268fb7f6 ferramentas_jardim         541         35   \n",
              "8af7ac63b2efbcbd88e5b11505e8098a ferramentas_jardim         501         29   \n",
              "569aa12b73b5f7edeaa6f2a01603e381 cama_mesa_banho            453         26   \n",
              "\n",
              "                                                        payment_value  \n",
              "customer_unique_id               product_category_name                 \n",
              "9a736b248f67d166d2fbb006bcb877c3 cama_mesa_banho               322.64  \n",
              "6fbc7cdadbb522125f4b27ae9dee4060 moveis_escritorio             411.48  \n",
              "f9ae226291893fda10af7965268fb7f6 ferramentas_jardim            946.47  \n",
              "8af7ac63b2efbcbd88e5b11505e8098a ferramentas_jardim            457.99  \n",
              "569aa12b73b5f7edeaa6f2a01603e381 cama_mesa_banho                62.68  "
            ],
            "text/html": [
              "\n",
              "  <div id=\"df-fb5698fb-a546-44ed-966c-651d322450db\" class=\"colab-df-container\">\n",
              "    <div>\n",
              "<style scoped>\n",
              "    .dataframe tbody tr th:only-of-type {\n",
              "        vertical-align: middle;\n",
              "    }\n",
              "\n",
              "    .dataframe tbody tr th {\n",
              "        vertical-align: top;\n",
              "    }\n",
              "\n",
              "    .dataframe thead th {\n",
              "        text-align: right;\n",
              "    }\n",
              "</style>\n",
              "<table border=\"1\" class=\"dataframe\">\n",
              "  <thead>\n",
              "    <tr style=\"text-align: right;\">\n",
              "      <th></th>\n",
              "      <th></th>\n",
              "      <th>recency</th>\n",
              "      <th>frequency</th>\n",
              "      <th>payment_value</th>\n",
              "    </tr>\n",
              "    <tr>\n",
              "      <th>customer_unique_id</th>\n",
              "      <th>product_category_name</th>\n",
              "      <th></th>\n",
              "      <th></th>\n",
              "      <th></th>\n",
              "    </tr>\n",
              "  </thead>\n",
              "  <tbody>\n",
              "    <tr>\n",
              "      <th>9a736b248f67d166d2fbb006bcb877c3</th>\n",
              "      <th>cama_mesa_banho</th>\n",
              "      <td>391</td>\n",
              "      <td>42</td>\n",
              "      <td>322.64</td>\n",
              "    </tr>\n",
              "    <tr>\n",
              "      <th>6fbc7cdadbb522125f4b27ae9dee4060</th>\n",
              "      <th>moveis_escritorio</th>\n",
              "      <td>345</td>\n",
              "      <td>38</td>\n",
              "      <td>411.48</td>\n",
              "    </tr>\n",
              "    <tr>\n",
              "      <th>f9ae226291893fda10af7965268fb7f6</th>\n",
              "      <th>ferramentas_jardim</th>\n",
              "      <td>541</td>\n",
              "      <td>35</td>\n",
              "      <td>946.47</td>\n",
              "    </tr>\n",
              "    <tr>\n",
              "      <th>8af7ac63b2efbcbd88e5b11505e8098a</th>\n",
              "      <th>ferramentas_jardim</th>\n",
              "      <td>501</td>\n",
              "      <td>29</td>\n",
              "      <td>457.99</td>\n",
              "    </tr>\n",
              "    <tr>\n",
              "      <th>569aa12b73b5f7edeaa6f2a01603e381</th>\n",
              "      <th>cama_mesa_banho</th>\n",
              "      <td>453</td>\n",
              "      <td>26</td>\n",
              "      <td>62.68</td>\n",
              "    </tr>\n",
              "  </tbody>\n",
              "</table>\n",
              "</div>\n",
              "    <div class=\"colab-df-buttons\">\n",
              "\n",
              "  <div class=\"colab-df-container\">\n",
              "    <button class=\"colab-df-convert\" onclick=\"convertToInteractive('df-fb5698fb-a546-44ed-966c-651d322450db')\"\n",
              "            title=\"Convert this dataframe to an interactive table.\"\n",
              "            style=\"display:none;\">\n",
              "\n",
              "  <svg xmlns=\"http://www.w3.org/2000/svg\" height=\"24px\" viewBox=\"0 -960 960 960\">\n",
              "    <path d=\"M120-120v-720h720v720H120Zm60-500h600v-160H180v160Zm220 220h160v-160H400v160Zm0 220h160v-160H400v160ZM180-400h160v-160H180v160Zm440 0h160v-160H620v160ZM180-180h160v-160H180v160Zm440 0h160v-160H620v160Z\"/>\n",
              "  </svg>\n",
              "    </button>\n",
              "\n",
              "  <style>\n",
              "    .colab-df-container {\n",
              "      display:flex;\n",
              "      gap: 12px;\n",
              "    }\n",
              "\n",
              "    .colab-df-convert {\n",
              "      background-color: #E8F0FE;\n",
              "      border: none;\n",
              "      border-radius: 50%;\n",
              "      cursor: pointer;\n",
              "      display: none;\n",
              "      fill: #1967D2;\n",
              "      height: 32px;\n",
              "      padding: 0 0 0 0;\n",
              "      width: 32px;\n",
              "    }\n",
              "\n",
              "    .colab-df-convert:hover {\n",
              "      background-color: #E2EBFA;\n",
              "      box-shadow: 0px 1px 2px rgba(60, 64, 67, 0.3), 0px 1px 3px 1px rgba(60, 64, 67, 0.15);\n",
              "      fill: #174EA6;\n",
              "    }\n",
              "\n",
              "    .colab-df-buttons div {\n",
              "      margin-bottom: 4px;\n",
              "    }\n",
              "\n",
              "    [theme=dark] .colab-df-convert {\n",
              "      background-color: #3B4455;\n",
              "      fill: #D2E3FC;\n",
              "    }\n",
              "\n",
              "    [theme=dark] .colab-df-convert:hover {\n",
              "      background-color: #434B5C;\n",
              "      box-shadow: 0px 1px 3px 1px rgba(0, 0, 0, 0.15);\n",
              "      filter: drop-shadow(0px 1px 2px rgba(0, 0, 0, 0.3));\n",
              "      fill: #FFFFFF;\n",
              "    }\n",
              "  </style>\n",
              "\n",
              "    <script>\n",
              "      const buttonEl =\n",
              "        document.querySelector('#df-fb5698fb-a546-44ed-966c-651d322450db button.colab-df-convert');\n",
              "      buttonEl.style.display =\n",
              "        google.colab.kernel.accessAllowed ? 'block' : 'none';\n",
              "\n",
              "      async function convertToInteractive(key) {\n",
              "        const element = document.querySelector('#df-fb5698fb-a546-44ed-966c-651d322450db');\n",
              "        const dataTable =\n",
              "          await google.colab.kernel.invokeFunction('convertToInteractive',\n",
              "                                                    [key], {});\n",
              "        if (!dataTable) return;\n",
              "\n",
              "        const docLinkHtml = 'Like what you see? Visit the ' +\n",
              "          '<a target=\"_blank\" href=https://colab.research.google.com/notebooks/data_table.ipynb>data table notebook</a>'\n",
              "          + ' to learn more about interactive tables.';\n",
              "        element.innerHTML = '';\n",
              "        dataTable['output_type'] = 'display_data';\n",
              "        await google.colab.output.renderOutput(dataTable, element);\n",
              "        const docLink = document.createElement('div');\n",
              "        docLink.innerHTML = docLinkHtml;\n",
              "        element.appendChild(docLink);\n",
              "      }\n",
              "    </script>\n",
              "  </div>\n",
              "\n",
              "\n",
              "<div id=\"df-441059ed-1ad1-4d50-aa1e-61f83118ee8c\">\n",
              "  <button class=\"colab-df-quickchart\" onclick=\"quickchart('df-441059ed-1ad1-4d50-aa1e-61f83118ee8c')\"\n",
              "            title=\"Suggest charts\"\n",
              "            style=\"display:none;\">\n",
              "\n",
              "<svg xmlns=\"http://www.w3.org/2000/svg\" height=\"24px\"viewBox=\"0 0 24 24\"\n",
              "     width=\"24px\">\n",
              "    <g>\n",
              "        <path d=\"M19 3H5c-1.1 0-2 .9-2 2v14c0 1.1.9 2 2 2h14c1.1 0 2-.9 2-2V5c0-1.1-.9-2-2-2zM9 17H7v-7h2v7zm4 0h-2V7h2v10zm4 0h-2v-4h2v4z\"/>\n",
              "    </g>\n",
              "</svg>\n",
              "  </button>\n",
              "\n",
              "<style>\n",
              "  .colab-df-quickchart {\n",
              "      --bg-color: #E8F0FE;\n",
              "      --fill-color: #1967D2;\n",
              "      --hover-bg-color: #E2EBFA;\n",
              "      --hover-fill-color: #174EA6;\n",
              "      --disabled-fill-color: #AAA;\n",
              "      --disabled-bg-color: #DDD;\n",
              "  }\n",
              "\n",
              "  [theme=dark] .colab-df-quickchart {\n",
              "      --bg-color: #3B4455;\n",
              "      --fill-color: #D2E3FC;\n",
              "      --hover-bg-color: #434B5C;\n",
              "      --hover-fill-color: #FFFFFF;\n",
              "      --disabled-bg-color: #3B4455;\n",
              "      --disabled-fill-color: #666;\n",
              "  }\n",
              "\n",
              "  .colab-df-quickchart {\n",
              "    background-color: var(--bg-color);\n",
              "    border: none;\n",
              "    border-radius: 50%;\n",
              "    cursor: pointer;\n",
              "    display: none;\n",
              "    fill: var(--fill-color);\n",
              "    height: 32px;\n",
              "    padding: 0;\n",
              "    width: 32px;\n",
              "  }\n",
              "\n",
              "  .colab-df-quickchart:hover {\n",
              "    background-color: var(--hover-bg-color);\n",
              "    box-shadow: 0 1px 2px rgba(60, 64, 67, 0.3), 0 1px 3px 1px rgba(60, 64, 67, 0.15);\n",
              "    fill: var(--button-hover-fill-color);\n",
              "  }\n",
              "\n",
              "  .colab-df-quickchart-complete:disabled,\n",
              "  .colab-df-quickchart-complete:disabled:hover {\n",
              "    background-color: var(--disabled-bg-color);\n",
              "    fill: var(--disabled-fill-color);\n",
              "    box-shadow: none;\n",
              "  }\n",
              "\n",
              "  .colab-df-spinner {\n",
              "    border: 2px solid var(--fill-color);\n",
              "    border-color: transparent;\n",
              "    border-bottom-color: var(--fill-color);\n",
              "    animation:\n",
              "      spin 1s steps(1) infinite;\n",
              "  }\n",
              "\n",
              "  @keyframes spin {\n",
              "    0% {\n",
              "      border-color: transparent;\n",
              "      border-bottom-color: var(--fill-color);\n",
              "      border-left-color: var(--fill-color);\n",
              "    }\n",
              "    20% {\n",
              "      border-color: transparent;\n",
              "      border-left-color: var(--fill-color);\n",
              "      border-top-color: var(--fill-color);\n",
              "    }\n",
              "    30% {\n",
              "      border-color: transparent;\n",
              "      border-left-color: var(--fill-color);\n",
              "      border-top-color: var(--fill-color);\n",
              "      border-right-color: var(--fill-color);\n",
              "    }\n",
              "    40% {\n",
              "      border-color: transparent;\n",
              "      border-right-color: var(--fill-color);\n",
              "      border-top-color: var(--fill-color);\n",
              "    }\n",
              "    60% {\n",
              "      border-color: transparent;\n",
              "      border-right-color: var(--fill-color);\n",
              "    }\n",
              "    80% {\n",
              "      border-color: transparent;\n",
              "      border-right-color: var(--fill-color);\n",
              "      border-bottom-color: var(--fill-color);\n",
              "    }\n",
              "    90% {\n",
              "      border-color: transparent;\n",
              "      border-bottom-color: var(--fill-color);\n",
              "    }\n",
              "  }\n",
              "</style>\n",
              "\n",
              "  <script>\n",
              "    async function quickchart(key) {\n",
              "      const quickchartButtonEl =\n",
              "        document.querySelector('#' + key + ' button');\n",
              "      quickchartButtonEl.disabled = true;  // To prevent multiple clicks.\n",
              "      quickchartButtonEl.classList.add('colab-df-spinner');\n",
              "      try {\n",
              "        const charts = await google.colab.kernel.invokeFunction(\n",
              "            'suggestCharts', [key], {});\n",
              "      } catch (error) {\n",
              "        console.error('Error during call to suggestCharts:', error);\n",
              "      }\n",
              "      quickchartButtonEl.classList.remove('colab-df-spinner');\n",
              "      quickchartButtonEl.classList.add('colab-df-quickchart-complete');\n",
              "    }\n",
              "    (() => {\n",
              "      let quickchartButtonEl =\n",
              "        document.querySelector('#df-441059ed-1ad1-4d50-aa1e-61f83118ee8c button');\n",
              "      quickchartButtonEl.style.display =\n",
              "        google.colab.kernel.accessAllowed ? 'block' : 'none';\n",
              "    })();\n",
              "  </script>\n",
              "</div>\n",
              "\n",
              "    </div>\n",
              "  </div>\n"
            ],
            "application/vnd.google.colaboratory.intrinsic+json": {
              "type": "dataframe",
              "variable_name": "rfm",
              "summary": "{\n  \"name\": \"rfm\",\n  \"rows\": 96469,\n  \"fields\": [\n    {\n      \"column\": \"recency\",\n      \"properties\": {\n        \"dtype\": \"number\",\n        \"std\": 153,\n        \"min\": 1,\n        \"max\": 729,\n        \"num_unique_values\": 613,\n        \"samples\": [\n          532,\n          273,\n          445\n        ],\n        \"semantic_type\": \"\",\n        \"description\": \"\"\n      }\n    },\n    {\n      \"column\": \"frequency\",\n      \"properties\": {\n        \"dtype\": \"number\",\n        \"std\": 0,\n        \"min\": 1,\n        \"max\": 42,\n        \"num_unique_values\": 27,\n        \"samples\": [\n          20,\n          14,\n          19\n        ],\n        \"semantic_type\": \"\",\n        \"description\": \"\"\n      }\n    },\n    {\n      \"column\": \"payment_value\",\n      \"properties\": {\n        \"dtype\": \"number\",\n        \"std\": 631.4458279170799,\n        \"min\": 9.59,\n        \"max\": 109312.64,\n        \"num_unique_values\": 30195,\n        \"samples\": [\n          1042.51,\n          599.52,\n          270.03\n        ],\n        \"semantic_type\": \"\",\n        \"description\": \"\"\n      }\n    }\n  ]\n}"
            }
          },
          "metadata": {},
          "execution_count": 27
        }
      ]
    },
    {
      "cell_type": "code",
      "source": [
        "# Drop the specified columns\n",
        "rfm = rfm.drop(columns=['customer_id'])\n"
      ],
      "metadata": {
        "id": "2zex9CQR3n4S"
      },
      "execution_count": null,
      "outputs": []
    },
    {
      "cell_type": "markdown",
      "source": [
        "**OUTLIER ANALYSIS FOR RFM**"
      ],
      "metadata": {
        "id": "2kgtEf77uCJd"
      }
    },
    {
      "cell_type": "code",
      "source": [
        "#Assigning Quintile Score\n",
        "#Recency: Lower values are better (recent activity).\n",
        "#Frequency and Payment: Higher values are better.\n",
        "\n",
        "# Define scoring function\n",
        "def assign_rfm_scores(df, column, ascending=True):\n",
        "\n",
        "    # Calculate quantiles and drop duplicates\n",
        "    quantiles = pd.qcut(df[column], 5, duplicates='drop', retbins=False)\n",
        "\n",
        "     # Determine the number of unique bins\n",
        "    num_bins = quantiles.cat.categories.size\n",
        "\n",
        "    # Generate labels based on the actual number of bins\n",
        "    labels = range(num_bins, 0, -1) if ascending else range(1, num_bins + 1)\n",
        "\n",
        "    # Apply qcut with the correct number of labels\n",
        "    return pd.qcut(df[column], 5, labels=labels, duplicates='drop')\n",
        "\n",
        "# Assign scores\n",
        "rfm['R_Score'] = assign_rfm_scores(rfm, 'recency', ascending=True)\n",
        "rfm['F_Score'] = assign_rfm_scores(rfm, 'frequency', ascending=False)\n",
        "rfm['M_Score'] = assign_rfm_scores(rfm, 'payment_value', ascending=False)\n"
      ],
      "metadata": {
        "id": "6einTE5VsanI"
      },
      "execution_count": null,
      "outputs": []
    },
    {
      "cell_type": "code",
      "source": [
        "# Calculate an overall RFM score\n",
        "rfm['rfm-combined'] = rfm['R_Score'].astype(int) + rfm['F_Score'].astype(int) + rfm['M_Score'].astype(int)\n",
        "\n",
        "# Combine RFM scores into a single string\n",
        "rfm['rfm-combined-str'] = rfm['R_Score'].astype(str) + rfm['F_Score'].astype(str) + rfm['M_Score'].astype(str)"
      ],
      "metadata": {
        "id": "aKoZWgG1rQl0"
      },
      "execution_count": null,
      "outputs": []
    },
    {
      "cell_type": "code",
      "source": [
        "rfm.rename(columns={'rfm-combined': 'rfm_combined'}, inplace=True)"
      ],
      "metadata": {
        "collapsed": true,
        "id": "Kr-_qAvMwL-x"
      },
      "execution_count": null,
      "outputs": []
    },
    {
      "cell_type": "code",
      "source": [
        "rfm"
      ],
      "metadata": {
        "id": "Usdypz8wz0jU"
      },
      "execution_count": null,
      "outputs": []
    },
    {
      "cell_type": "code",
      "source": [
        "#define rfm percentile\n",
        "print(rfm.describe(percentiles=[.01,.05,.25,.5,.75,.95,.99]))"
      ],
      "metadata": {
        "id": "wpMX8K1ardpA"
      },
      "execution_count": null,
      "outputs": []
    },
    {
      "cell_type": "markdown",
      "source": [
        "**SEGMENTING CUSTOMERS**"
      ],
      "metadata": {
        "id": "TtmbfojBxBlE"
      }
    },
    {
      "cell_type": "code",
      "source": [
        "#based on rfm-comnbine score, defining score to form segments is 7\n",
        "\n",
        "def segments(rfm_combined):\n",
        "    if rfm_combined >= 10:\n",
        "       return 'Winners'\n",
        "    elif rfm_combined <= 8:\n",
        "       return 'Loyalist'\n",
        "    elif 5<= rfm_combined >= 7:\n",
        "       return 'Potential Loyalists'\n",
        "    else:\n",
        "       return 'At Risk'"
      ],
      "metadata": {
        "id": "BBnwrGwmtibq"
      },
      "execution_count": null,
      "outputs": []
    },
    {
      "cell_type": "code",
      "source": [
        "rfm['Segment'] = rfm['rfm_combined'].apply(segments)"
      ],
      "metadata": {
        "id": "36EIrgjkthi_"
      },
      "execution_count": null,
      "outputs": []
    },
    {
      "cell_type": "markdown",
      "source": [
        "**VISUALIZE SEGMENTS**"
      ],
      "metadata": {
        "id": "xzXgqeu0xIQU"
      }
    },
    {
      "cell_type": "code",
      "source": [
        "from typing import Sized\n",
        "from __future__ import annotations\n",
        "segment_counts = rfm['Segment'].value_counts()\n",
        "\n",
        "#pie chart\n",
        "segment_counts.plot(kind='pie',ylabel='Segment',\n",
        "                    autopct=lambda pct:f'{pct:.1f}% ({int(pct/100.*segment_counts.sum())})')"
      ],
      "metadata": {
        "id": "Yt94tkCUxL-g"
      },
      "execution_count": null,
      "outputs": []
    },
    {
      "cell_type": "code",
      "source": [
        "#bar chart\n",
        "barplot = segment_counts.plot(kind='bar',ylabel='Segment')\n",
        "for p in barplot.patches:\n",
        "    barplot.annotate(f'{p.get_height()}', (p.get_x() + p.get_width() / 2., p.get_height()),\n",
        "                    ha='center', va='center', xytext=(0, 10), textcoords='offset points')\n",
        "barplot.set_xticklabels(barplot.get_xticklabels(), rotation=0)"
      ],
      "metadata": {
        "id": "v9Q-6M08xnyu",
        "collapsed": true
      },
      "execution_count": null,
      "outputs": []
    },
    {
      "cell_type": "markdown",
      "source": [
        "**MERGING WITH OG DF TO IDENTIFY ISSUES**"
      ],
      "metadata": {
        "id": "k6n6IDd_IJhb"
      }
    },
    {
      "cell_type": "code",
      "source": [
        "# Merge the two dataframes\n",
        "#merged_df = pd.merge(full_df, rfm[['rfm_combined', 'Segment']], on='customer_unique_id', how='left')\n",
        "\n",
        "merged_df.dtypes"
      ],
      "metadata": {
        "id": "bIoQ2aI2Fl_1"
      },
      "execution_count": null,
      "outputs": []
    },
    {
      "cell_type": "markdown",
      "source": [
        "**IMPORT DATA TO BIGUERY**"
      ],
      "metadata": {
        "id": "kC6jpTo7qnMx"
      }
    },
    {
      "cell_type": "code",
      "source": [
        "#Importing main DB as MERGED\n",
        "\n",
        "# Import necessary libraries\n",
        "from google.cloud import bigquery\n",
        "from google.oauth2 import service_account # Import for explicit authentication\n",
        "\n",
        "# Construct a BigQuery client object.\n",
        "# Explicitly provide credentials using a service account key file\n",
        "credentials = service_account.Credentials.from_service_account_file(\n",
        "    '/content/drive/MyDrive/p1-ecomm-f5ffde5adbe7.json'  # Replace with the actual path\n",
        ")\n",
        "client = bigquery.Client(credentials=credentials)\n",
        "\n",
        "\n",
        "# Define your BigQuery dataset and table.\n",
        "project_id = \"p1-ecomm\"\n",
        "dataset_id = \"T1_ECOMM\"  # Replace with your dataset ID\n",
        "table_id = \"MERGED\"     # Replace with your table ID\n",
        "table_ref = client.dataset(dataset_id, project=project_id).table(table_id)\n",
        "\n",
        "\n",
        "# Convert the pandas DataFrame to a BigQuery table.\n",
        "# Replace 'full_df' with the actual variable name containing your dataframe\n",
        "job_config = bigquery.LoadJobConfig()\n",
        "job_config.write_disposition = bigquery.WriteDisposition.WRITE_TRUNCATE #replace with WRITE_APPEND if you want to add data\n",
        "job = client.load_table_from_dataframe(\n",
        "    full_df, table_ref, job_config=job_config\n",
        ")\n",
        "job.result()  # Wait for the job to complete.\n",
        "\n",
        "print(f\"Loaded {full_df.shape[0]} rows into BigQuery table {table_id}\")"
      ],
      "metadata": {
        "id": "UU-94SqRVI88"
      },
      "execution_count": null,
      "outputs": []
    }
  ]
}